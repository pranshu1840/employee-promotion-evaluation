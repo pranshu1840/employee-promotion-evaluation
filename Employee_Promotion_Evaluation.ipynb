{
  "cells": [
    {
      "cell_type": "markdown",
      "id": "bdf73f87",
      "metadata": {
        "id": "bdf73f87"
      },
      "source": [
        "# Project Name : Employee Evaluation for Promotion using ML and Eval Auto ML"
      ]
    },
    {
      "cell_type": "markdown",
      "id": "1d16fd81",
      "metadata": {
        "id": "1d16fd81"
      },
      "source": [
        "## Context:"
      ]
    },
    {
      "cell_type": "markdown",
      "id": "1fd9e52f",
      "metadata": {
        "id": "1fd9e52f"
      },
      "source": [
        "### The HR team stored data of promotion cycle last year, which consists of details of all the employees in the company working last year and also if they got promoted or not, but every time this process gets delayed due to so many details available for each employee - it gets difficult to compare and decide.\n"
      ]
    },
    {
      "cell_type": "markdown",
      "id": "61dbc5c8",
      "metadata": {
        "id": "61dbc5c8"
      },
      "source": [
        "### We will build a model from stored data, that will predict if a person is eligible for promotion or not."
      ]
    },
    {
      "cell_type": "markdown",
      "id": "fc56f2b4",
      "metadata": {
        "id": "fc56f2b4"
      },
      "source": [
        "### Time Line of the Project:\n",
        "- Importing Libraries and DataSet\n",
        "- Data Analysis\n",
        "- Feature Engineering\n",
        "- Model building using ML models\n",
        "- Model building and prediction using Auto ML"
      ]
    },
    {
      "cell_type": "markdown",
      "id": "68050cb8",
      "metadata": {
        "id": "68050cb8"
      },
      "source": [
        "## Importing Libraries"
      ]
    },
    {
      "cell_type": "code",
      "execution_count": null,
      "id": "e9bfb441",
      "metadata": {
        "id": "e9bfb441"
      },
      "outputs": [],
      "source": [
        "import pandas as pd\n",
        "import numpy as np\n",
        "import seaborn as sns\n",
        "import matplotlib.pyplot as plt\n",
        "from sklearn.preprocessing import LabelEncoder\n",
        "from sklearn.model_selection import train_test_split\n",
        "%matplotlib inline"
      ]
    },
    {
      "cell_type": "markdown",
      "id": "b38d1fd5",
      "metadata": {
        "id": "b38d1fd5"
      },
      "source": [
        "### Reading the DataSet"
      ]
    },
    {
      "cell_type": "code",
      "execution_count": null,
      "id": "wqxLYiTvL0l7",
      "metadata": {
        "id": "wqxLYiTvL0l7"
      },
      "outputs": [],
      "source": [
        "from google.colab import drive\n",
        "drive.mount('/content/drive')"
      ]
    },
    {
      "cell_type": "code",
      "execution_count": null,
      "id": "b662717c",
      "metadata": {
        "id": "b662717c"
      },
      "outputs": [],
      "source": [
        "df= pd.read_csv(\"/content/drive/MyDrive/employee_promotion.csv\")"
      ]
    },
    {
      "cell_type": "code",
      "execution_count": null,
      "id": "836d3adb",
      "metadata": {
        "id": "836d3adb"
      },
      "outputs": [],
      "source": [
        "df.head()"
      ]
    },
    {
      "cell_type": "code",
      "execution_count": null,
      "id": "8217f9e3",
      "metadata": {
        "id": "8217f9e3"
      },
      "outputs": [],
      "source": [
        "df.info()"
      ]
    },
    {
      "cell_type": "code",
      "execution_count": null,
      "id": "2ca802a5",
      "metadata": {
        "id": "2ca802a5"
      },
      "outputs": [],
      "source": [
        "df.describe()"
      ]
    },
    {
      "cell_type": "markdown",
      "id": "9a1cc384",
      "metadata": {
        "id": "9a1cc384"
      },
      "source": [
        "### Data Analysis and Preprocessing"
      ]
    },
    {
      "cell_type": "markdown",
      "id": "8028b670",
      "metadata": {
        "id": "8028b670"
      },
      "source": [
        "#### Null Values"
      ]
    },
    {
      "cell_type": "code",
      "execution_count": null,
      "id": "c1187aba",
      "metadata": {
        "id": "c1187aba"
      },
      "outputs": [],
      "source": [
        "df.isnull().sum()"
      ]
    },
    {
      "cell_type": "code",
      "execution_count": null,
      "id": "5d77ae4d",
      "metadata": {
        "id": "5d77ae4d"
      },
      "outputs": [],
      "source": [
        "df.dropna(axis=0, inplace=True)\n",
        "df.reset_index(drop=True, inplace=True)\n",
        "df"
      ]
    },
    {
      "cell_type": "code",
      "execution_count": null,
      "id": "26189619",
      "metadata": {
        "id": "26189619"
      },
      "outputs": [],
      "source": [
        "df.drop(columns=['employee_id'], inplace=True)\n",
        "df.head()"
      ]
    },
    {
      "cell_type": "markdown",
      "id": "240784cf",
      "metadata": {
        "id": "240784cf"
      },
      "source": [
        "### Deviding features"
      ]
    },
    {
      "cell_type": "code",
      "execution_count": null,
      "id": "0211bd51",
      "metadata": {
        "id": "0211bd51"
      },
      "outputs": [],
      "source": [
        "num_features=[i for i in df.columns if df.dtypes[i]!='object']\n",
        "num_features"
      ]
    },
    {
      "cell_type": "code",
      "execution_count": null,
      "id": "bb6ebc3e",
      "metadata": {
        "id": "bb6ebc3e"
      },
      "outputs": [],
      "source": [
        "cat_features=[i for i in df.columns if df.dtypes[i]=='object']\n",
        "df[cat_features].nunique()"
      ]
    },
    {
      "cell_type": "code",
      "execution_count": null,
      "id": "ae218593",
      "metadata": {
        "id": "ae218593"
      },
      "outputs": [],
      "source": [
        "for i in num_features:\n",
        "    plt.figsize=(10,5)\n",
        "    sns.boxplot(y=df[i])\n",
        "    plt.show()"
      ]
    },
    {
      "cell_type": "code",
      "execution_count": null,
      "id": "27379cd0",
      "metadata": {
        "id": "27379cd0"
      },
      "outputs": [],
      "source": [
        "fig, axs = plt.subplots(nrows=3, ncols=4, figsize=(40, 20))\n",
        "\n",
        "for i, feature in enumerate(df.columns):\n",
        "    row = int(i/4)\n",
        "    col = i%4\n",
        "    pd.value_counts(df.iloc[:, i]).plot.pie(autopct=\"%.1f%%\", ax=axs[row][col])\n",
        "\n",
        "plt.suptitle('Distribution of features')\n",
        "plt.tight_layout()"
      ]
    },
    {
      "cell_type": "code",
      "execution_count": null,
      "id": "8d3dd352",
      "metadata": {
        "id": "8d3dd352"
      },
      "outputs": [],
      "source": [
        "columns = [ 'no_of_trainings', 'age', 'previous_year_rating', 'length_of_service', 'awards_won', 'avg_training_score', 'is_promoted']\n",
        "fig, axs = plt.subplots(nrows=2, ncols=4, figsize=(20, 10))\n",
        "\n",
        "for i, feature in enumerate(df[columns]):\n",
        "    row = int(i/4)\n",
        "    col = i%4\n",
        "    sns.distplot(df[columns].iloc[:, i], ax=axs[row][col])\n",
        "\n",
        "plt.suptitle('Distirbution of features')\n",
        "plt.tight_layout"
      ]
    },
    {
      "cell_type": "markdown",
      "id": "55e297bf",
      "metadata": {
        "id": "55e297bf"
      },
      "source": [
        "### Plotting Q-Q Plot"
      ]
    },
    {
      "cell_type": "code",
      "execution_count": null,
      "id": "2fa17761",
      "metadata": {
        "id": "2fa17761"
      },
      "outputs": [],
      "source": [
        "import scipy.stats as stat\n",
        "import pylab"
      ]
    },
    {
      "cell_type": "code",
      "execution_count": null,
      "id": "cf318b7c",
      "metadata": {
        "id": "cf318b7c"
      },
      "outputs": [],
      "source": [
        "def plot_curve(df,feature):\n",
        "    plt.figure(figsize=(10,6))\n",
        "    plt.subplot(1,2,1)\n",
        "    df[feature].hist()\n",
        "    plt.subplot(1,2,2)\n",
        "    stat.probplot(df[feature],dist='norm',plot=pylab)\n",
        "    plt.show()"
      ]
    },
    {
      "cell_type": "code",
      "execution_count": null,
      "id": "bd4d2eb2",
      "metadata": {
        "id": "bd4d2eb2"
      },
      "outputs": [],
      "source": [
        "for feature in columns:\n",
        "    plot_curve(df,feature)"
      ]
    },
    {
      "cell_type": "markdown",
      "id": "b5270f82",
      "metadata": {
        "id": "b5270f82"
      },
      "source": [
        "### We need to do log transformation"
      ]
    },
    {
      "cell_type": "code",
      "execution_count": null,
      "id": "3636519c",
      "metadata": {
        "id": "3636519c"
      },
      "outputs": [],
      "source": [
        "age_log = np.log1p(df['age'])\n",
        "service_log = np.log1p(df['length_of_service'])\n",
        "score_log = np.log1p(df['avg_training_score'])\n",
        "\n",
        "df.insert(6, 'age_log', age_log)\n",
        "df.insert(9, 'length_of_service_log', service_log)\n",
        "df.insert(12, 'avg_training_score_log', score_log)\n",
        "\n",
        "df.head()"
      ]
    },
    {
      "cell_type": "code",
      "execution_count": null,
      "id": "9ef41bd7",
      "metadata": {
        "id": "9ef41bd7"
      },
      "outputs": [],
      "source": [
        "log_columns = ['age_log', 'length_of_service_log', 'avg_training_score_log']\n",
        "\n",
        "fig, (ax1, ax2, ax3) = plt.subplots(nrows=1, ncols=3, figsize=(20, 10))\n",
        "\n",
        "sns.distplot(df['age_log'], ax=ax1)\n",
        "ax1.set_title('Distribution of age_log')\n",
        "sns.distplot(df['length_of_service_log'], ax=ax2)\n",
        "ax2.set_title('Distribution of length_of_service_log')\n",
        "sns.distplot(df['avg_training_score_log'], ax=ax3)\n",
        "ax3.set_title('Distribution of avg_training_score_log')\n",
        "\n",
        "plt.suptitle('Distribution of log converted features', fontweight='bold')\n",
        "plt.tight_layout()\n",
        "plt.show()"
      ]
    },
    {
      "cell_type": "code",
      "execution_count": null,
      "id": "15330bb1",
      "metadata": {
        "id": "15330bb1"
      },
      "outputs": [],
      "source": [
        "for feature in log_columns:\n",
        "    plot_curve(df,feature)"
      ]
    },
    {
      "cell_type": "markdown",
      "id": "705b07da",
      "metadata": {
        "id": "705b07da"
      },
      "source": [
        "#### Heat Map"
      ]
    },
    {
      "cell_type": "code",
      "execution_count": null,
      "id": "698dd0e8",
      "metadata": {
        "id": "698dd0e8"
      },
      "outputs": [],
      "source": [
        "plt.figure(figsize=(10, 8))\n",
        "plt.title('Correlation of features')\n",
        "sns.heatmap(df.corr(), annot=True, linewidths=.5, cmap=\"YlGnBu\")"
      ]
    },
    {
      "cell_type": "markdown",
      "id": "cc1f9b82",
      "metadata": {
        "id": "cc1f9b82"
      },
      "source": [
        "### One Hot Encoding"
      ]
    },
    {
      "cell_type": "code",
      "execution_count": null,
      "id": "3f1e5f37",
      "metadata": {
        "id": "3f1e5f37"
      },
      "outputs": [],
      "source": [
        "df_encoded = pd.get_dummies(df)\n",
        "df_encoded.head()"
      ]
    },
    {
      "cell_type": "markdown",
      "id": "b03acacc",
      "metadata": {
        "id": "b03acacc"
      },
      "source": [
        "### Scaling our Data"
      ]
    },
    {
      "cell_type": "code",
      "execution_count": null,
      "id": "82567c7e",
      "metadata": {
        "id": "82567c7e"
      },
      "outputs": [],
      "source": [
        "from sklearn.preprocessing import StandardScaler\n",
        "features = np.array(df_encoded.columns).reshape(-1, 1)\n",
        "\n",
        "for feature in features:\n",
        "    scaler = StandardScaler()\n",
        "    scaler.fit(df_encoded[feature])\n",
        "    df_encoded[feature] = scaler.transform(df_encoded[feature])\n",
        "\n",
        "df_encoded.head()"
      ]
    },
    {
      "cell_type": "markdown",
      "id": "93aa9251",
      "metadata": {
        "id": "93aa9251"
      },
      "source": [
        "### Spllitting the data"
      ]
    },
    {
      "cell_type": "code",
      "execution_count": null,
      "id": "c131509d",
      "metadata": {
        "id": "c131509d"
      },
      "outputs": [],
      "source": [
        "x = df_encoded.drop(columns=['is_promoted'], inplace=False)\n",
        "y = df_encoded['is_promoted'].astype(int)"
      ]
    },
    {
      "cell_type": "code",
      "execution_count": null,
      "id": "07280a04",
      "metadata": {
        "id": "07280a04"
      },
      "outputs": [],
      "source": [
        "X_train, X_test, y_train, y_test = train_test_split(x, y, test_size=0.2, random_state=11)"
      ]
    },
    {
      "cell_type": "code",
      "execution_count": null,
      "id": "635e3783",
      "metadata": {
        "id": "635e3783"
      },
      "outputs": [],
      "source": [
        "print('Shape of X_train: ', X_train.shape)\n",
        "print('Shape of X_test: ', X_test.shape)\n",
        "print('Shape of y_train: ', y_train.shape)\n",
        "print('Shape of y_test: ', y_test.shape)"
      ]
    },
    {
      "cell_type": "markdown",
      "id": "604a9ac9",
      "metadata": {
        "id": "604a9ac9"
      },
      "source": [
        "## Model Development:"
      ]
    },
    {
      "cell_type": "markdown",
      "id": "dfae3d13",
      "metadata": {
        "id": "dfae3d13"
      },
      "source": [
        "### We will use the following models in this project:\n",
        "- Decison Tree Classifier\n",
        "- Random Forest Classifer \n",
        "- Logistci Regression"
      ]
    },
    {
      "cell_type": "markdown",
      "id": "25623dee",
      "metadata": {
        "id": "25623dee"
      },
      "source": [
        "### Let us define a function which will give the different accuracy matrics"
      ]
    },
    {
      "cell_type": "code",
      "execution_count": null,
      "id": "9a6addba",
      "metadata": {
        "id": "9a6addba"
      },
      "outputs": [],
      "source": [
        "from sklearn.metrics import accuracy_score, roc_auc_score, recall_score, precision_score, confusion_matrix, f1_score, precision_recall_curve, roc_curve, plot_roc_curve, plot_precision_recall_curve"
      ]
    },
    {
      "cell_type": "code",
      "execution_count": null,
      "id": "ac5417af",
      "metadata": {
        "id": "ac5417af"
      },
      "outputs": [],
      "source": [
        "def get_clf_eval(y_test, pred=None, pred_proba=None):\n",
        "    confusion = confusion_matrix(y_test, pred)\n",
        "    accuracy = accuracy_score(y_test, pred)\n",
        "    precision = precision_score(y_test, pred, average=\"macro\")\n",
        "    recall = recall_score(y_test, pred, average=\"macro\")\n",
        "    f1 = f1_score(y_test, pred, average=\"macro\")\n",
        "    roc_auc = roc_auc_score(y_test, pred_proba, average=\"macro\")\n",
        "    print('Confusion Matrix')\n",
        "    print(confusion)\n",
        "    print('Accuracy: {0:.4f}, Precision: {1:.4f}, Recall {2:.4f}, F1: {3:.4f}, AUC:{4:.4f}'.format(accuracy, precision, recall, f1, roc_auc))"
      ]
    },
    {
      "cell_type": "code",
      "execution_count": null,
      "id": "82f0be8d",
      "metadata": {
        "id": "82f0be8d"
      },
      "outputs": [],
      "source": [
        "from sklearn.preprocessing import StandardScaler\n",
        "from sklearn.linear_model import LogisticRegression\n",
        "from sklearn.tree import DecisionTreeClassifier\n",
        "from sklearn.ensemble import RandomForestClassifier"
      ]
    },
    {
      "cell_type": "markdown",
      "id": "ecc47547",
      "metadata": {
        "id": "ecc47547"
      },
      "source": [
        "## Decision Tree"
      ]
    },
    {
      "cell_type": "code",
      "execution_count": null,
      "id": "84729cb5",
      "metadata": {
        "id": "84729cb5"
      },
      "outputs": [],
      "source": [
        "dt_clf = DecisionTreeClassifier()"
      ]
    },
    {
      "cell_type": "code",
      "execution_count": null,
      "id": "70596cc6",
      "metadata": {
        "id": "70596cc6"
      },
      "outputs": [],
      "source": [
        "dt_clf.fit(X_train, y_train)\n",
        "dt_pred = dt_clf.predict(X_test)\n",
        "dt_pred_proba = dt_clf.predict_proba(X_test)[:, 1]"
      ]
    },
    {
      "cell_type": "code",
      "execution_count": null,
      "id": "57884e77",
      "metadata": {
        "id": "57884e77"
      },
      "outputs": [],
      "source": [
        "get_clf_eval(y_test, dt_pred, dt_pred_proba)"
      ]
    },
    {
      "cell_type": "code",
      "execution_count": null,
      "id": "40222510",
      "metadata": {
        "id": "40222510"
      },
      "outputs": [],
      "source": [
        "plot_precision_recall_curve(dt_clf, X_test, y_test)"
      ]
    },
    {
      "cell_type": "markdown",
      "id": "7779c04a",
      "metadata": {
        "id": "7779c04a"
      },
      "source": [
        "## Logistic Regression"
      ]
    },
    {
      "cell_type": "code",
      "execution_count": null,
      "id": "c7132e13",
      "metadata": {
        "id": "c7132e13"
      },
      "outputs": [],
      "source": [
        "lr_clf = LogisticRegression()"
      ]
    },
    {
      "cell_type": "code",
      "execution_count": null,
      "id": "2023716b",
      "metadata": {
        "id": "2023716b"
      },
      "outputs": [],
      "source": [
        "lr_clf.fit(X_train, y_train)\n",
        "lr_pred = lr_clf.predict(X_test)\n",
        "lr_pred_proba = lr_clf.predict_proba(X_test)[:, 1]"
      ]
    },
    {
      "cell_type": "code",
      "execution_count": null,
      "id": "ac377956",
      "metadata": {
        "id": "ac377956"
      },
      "outputs": [],
      "source": [
        "get_clf_eval(y_test, lr_pred, lr_pred_proba)"
      ]
    },
    {
      "cell_type": "code",
      "execution_count": null,
      "id": "d062cd62",
      "metadata": {
        "id": "d062cd62"
      },
      "outputs": [],
      "source": [
        "plot_precision_recall_curve(lr_clf, X_test, y_test)"
      ]
    },
    {
      "cell_type": "markdown",
      "id": "6963d2e2",
      "metadata": {
        "id": "6963d2e2"
      },
      "source": [
        "## Random Forest"
      ]
    },
    {
      "cell_type": "code",
      "execution_count": null,
      "id": "9af04352",
      "metadata": {
        "id": "9af04352"
      },
      "outputs": [],
      "source": [
        "rf_clf = RandomForestClassifier()"
      ]
    },
    {
      "cell_type": "code",
      "execution_count": null,
      "id": "c9072e9e",
      "metadata": {
        "id": "c9072e9e"
      },
      "outputs": [],
      "source": [
        "rf_clf.fit(X_train, y_train)\n",
        "rf_pred = rf_clf.predict(X_test)\n",
        "rf_pred_proba = rf_clf.predict_proba(X_test)[:, 1]"
      ]
    },
    {
      "cell_type": "code",
      "execution_count": null,
      "id": "20569107",
      "metadata": {
        "id": "20569107"
      },
      "outputs": [],
      "source": [
        "get_clf_eval(y_test, rf_pred, rf_pred_proba)"
      ]
    },
    {
      "cell_type": "code",
      "execution_count": null,
      "id": "0e95e895",
      "metadata": {
        "id": "0e95e895"
      },
      "outputs": [],
      "source": [
        "plot_precision_recall_curve(rf_clf, X_test, y_test)"
      ]
    },
    {
      "cell_type": "markdown",
      "id": "15999b39",
      "metadata": {
        "id": "15999b39"
      },
      "source": [
        "## Using Auto ML"
      ]
    },
    {
      "cell_type": "markdown",
      "id": "b1f0168f",
      "metadata": {
        "id": "b1f0168f"
      },
      "source": [
        "### EvalML is an open-source AutoML library written in python that automates a large part of the machine learning process and we can easily evaluate which machine learning pipeline works better for the given set of data."
      ]
    },
    {
      "cell_type": "markdown",
      "id": "fa75a2bd",
      "metadata": {
        "id": "fa75a2bd"
      },
      "source": [
        "### Installing Eval ML"
      ]
    },
    {
      "cell_type": "code",
      "execution_count": null,
      "id": "4f5b4523",
      "metadata": {
        "id": "4f5b4523"
      },
      "outputs": [],
      "source": [
        "!pip install evalml"
      ]
    },
    {
      "cell_type": "code",
      "execution_count": null,
      "id": "hrp0IqoDNPiR",
      "metadata": {
        "id": "hrp0IqoDNPiR"
      },
      "outputs": [],
      "source": [
        "!pip install scikit-learn==0.24"
      ]
    },
    {
      "cell_type": "markdown",
      "id": "66f4a_GDMM-9",
      "metadata": {
        "id": "66f4a_GDMM-9"
      },
      "source": [
        "### We will use the same train and test dataset for this"
      ]
    },
    {
      "cell_type": "code",
      "execution_count": null,
      "id": "f0lTdvKXMHYA",
      "metadata": {
        "id": "f0lTdvKXMHYA"
      },
      "outputs": [],
      "source": [
        "import evalml"
      ]
    },
    {
      "cell_type": "code",
      "execution_count": null,
      "id": "602K5vfVMRFn",
      "metadata": {
        "id": "602K5vfVMRFn"
      },
      "outputs": [],
      "source": [
        "evalml.problem_types.ProblemTypes.all_problem_types"
      ]
    },
    {
      "cell_type": "code",
      "execution_count": null,
      "id": "xWlWzB3XMS5q",
      "metadata": {
        "id": "xWlWzB3XMS5q"
      },
      "outputs": [],
      "source": [
        "X_train, X_test, y_train, y_test = evalml.preprocessing.split_data(x, y, problem_type='binary')"
      ]
    },
    {
      "cell_type": "markdown",
      "id": "3fhiLl_tPQ0R",
      "metadata": {
        "id": "3fhiLl_tPQ0R"
      },
      "source": [
        "**Running the Auto ML to select best Algorithm**"
      ]
    },
    {
      "cell_type": "code",
      "execution_count": null,
      "id": "_I2nQ7kTPOMq",
      "metadata": {
        "id": "_I2nQ7kTPOMq"
      },
      "outputs": [],
      "source": [
        "from evalml.automl import AutoMLSearch\n",
        "automl = AutoMLSearch(X_train=X_train, y_train=y_train, problem_type='binary')\n",
        "automl.search()"
      ]
    },
    {
      "cell_type": "code",
      "execution_count": null,
      "id": "JOFa3mGaPTzk",
      "metadata": {
        "id": "JOFa3mGaPTzk"
      },
      "outputs": [],
      "source": [
        "automl.rankings"
      ]
    },
    {
      "cell_type": "code",
      "execution_count": null,
      "id": "mYHdK5UoPWV8",
      "metadata": {
        "id": "mYHdK5UoPWV8"
      },
      "outputs": [],
      "source": [
        "automl.best_pipeline\n",
        "best_pipeline=automl.best_pipeline"
      ]
    },
    {
      "cell_type": "code",
      "execution_count": null,
      "id": "974C_PwWPchb",
      "metadata": {
        "id": "974C_PwWPchb"
      },
      "outputs": [],
      "source": [
        "automl.describe_pipeline(automl.rankings.iloc[0][\"id\"])"
      ]
    },
    {
      "cell_type": "markdown",
      "id": "kddFEvsIPs2l",
      "metadata": {
        "id": "kddFEvsIPs2l"
      },
      "source": [
        "### Predicting the results"
      ]
    },
    {
      "cell_type": "code",
      "execution_count": null,
      "id": "0i0lUJMmQFsD",
      "metadata": {
        "id": "0i0lUJMmQFsD"
      },
      "outputs": [],
      "source": [
        "evalml.objectives.get_all_objective_names()"
      ]
    },
    {
      "cell_type": "code",
      "execution_count": null,
      "id": "EBt9gGnNPgQ-",
      "metadata": {
        "id": "EBt9gGnNPgQ-"
      },
      "outputs": [],
      "source": [
        "best_pipeline.score(X_test, y_test,objectives=[\"accuracy binary\"])"
      ]
    },
    {
      "cell_type": "markdown",
      "id": "X9xE6-hFQn8Q",
      "metadata": {
        "id": "X9xE6-hFQn8Q"
      },
      "source": [
        "### We can save and load our model in pickle file also"
      ]
    },
    {
      "cell_type": "code",
      "execution_count": null,
      "id": "LWXROsGwPxAD",
      "metadata": {
        "id": "LWXROsGwPxAD"
      },
      "outputs": [],
      "source": [
        "best_pipeline.save(\"model.pkl\")\n",
        "final_model=automl.load('model.pkl')"
      ]
    },
    {
      "cell_type": "code",
      "execution_count": null,
      "id": "teb43RGqQsix",
      "metadata": {
        "id": "teb43RGqQsix"
      },
      "outputs": [],
      "source": [
        "pred=final_model.predict(X_test)"
      ]
    },
    {
      "cell_type": "code",
      "execution_count": null,
      "id": "f250m4uxQuOK",
      "metadata": {
        "id": "f250m4uxQuOK"
      },
      "outputs": [],
      "source": [
        "pred"
      ]
    },
    {
      "cell_type": "code",
      "execution_count": null,
      "id": "hAKV1L9BQx7i",
      "metadata": {
        "id": "hAKV1L9BQx7i"
      },
      "outputs": [],
      "source": [
        "y_test"
      ]
    },
    {
      "cell_type": "code",
      "execution_count": null,
      "id": "vFYIPMLAQ10w",
      "metadata": {
        "id": "vFYIPMLAQ10w"
      },
      "outputs": [],
      "source": []
    }
  ],
  "metadata": {
    "colab": {
      "name": "Employee Promotion Evaluation.ipynb",
      "provenance": []
    },
    "kernelspec": {
      "display_name": "Python 3",
      "language": "python",
      "name": "python3"
    },
    "language_info": {
      "codemirror_mode": {
        "name": "ipython",
        "version": 3
      },
      "file_extension": ".py",
      "mimetype": "text/x-python",
      "name": "python",
      "nbconvert_exporter": "python",
      "pygments_lexer": "ipython3",
      "version": "3.8.8"
    }
  },
  "nbformat": 4,
  "nbformat_minor": 5
}
